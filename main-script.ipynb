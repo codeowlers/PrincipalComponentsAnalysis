{
 "cells": [
  {
   "cell_type": "code",
   "execution_count": null,
   "metadata": {},
   "outputs": [],
   "source": []
  }
 ],
 "metadata": {
  "kernelspec": {
   "display_name": "Python 3",
   "language": "python",
   "name": "python3"
  },
  "language_info": {
   "name": "python",
   "version": "3.10.2"
  },
  "orig_nbformat": 4,
  "vscode": {
   "interpreter": {
    "hash": "5a6207722f3be5c8aeec7a028becc5489fbd28a1705747404dde5b96b7146bf2"
   }
  }
 },
 "nbformat": 4,
 "nbformat_minor": 2
}
