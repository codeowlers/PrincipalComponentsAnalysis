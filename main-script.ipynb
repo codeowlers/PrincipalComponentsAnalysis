{
 "cells": [
  {
   "cell_type": "code",
   "execution_count": 1,
   "metadata": {},
   "outputs": [],
   "source": [
    "import numpy as np\n",
    "import pandas as pd\n",
    "from sklearn.preprocessing import StandardScaler, MinMaxScaler\n",
    "from sklearn.decomposition import PCA\n",
    "from sklearn.cluster import KMeans\n",
    "from sklearn.metrics import silhouette_score\n",
    "import matplotlib.pyplot as plt\n",
    "from matplotlib import cm\n",
    "from matplotlib.lines import Line2D\n",
    "from IPython.display import display  # to display variables in a \"nice\" way\n",
    "\n",
    "# pd.options.display.max_rows = 9999\n",
    "pd.options.display.max_columns = 200"
   ]
  },
  {
   "attachments": {},
   "cell_type": "markdown",
   "metadata": {},
   "source": [
    "Setting the Random State:"
   ]
  },
  {
   "cell_type": "code",
   "execution_count": 2,
   "metadata": {},
   "outputs": [],
   "source": [
    "IDs =  [312920,312919,313385]\n",
    "rs = np.min(IDs)\n",
    "np.random.seed(rs)"
   ]
  },
  {
   "attachments": {},
   "cell_type": "markdown",
   "metadata": {},
   "source": [
    "Exercise 1 (Loading and Preparing the Data):"
   ]
  },
  {
   "attachments": {},
   "cell_type": "markdown",
   "metadata": {},
   "source": [
    "(a)"
   ]
  },
  {
   "cell_type": "code",
   "execution_count": 3,
   "metadata": {},
   "outputs": [],
   "source": [
    "# PATH TO THE cla4lsp22_bikez_curated.csv FILE\n",
    "bikez_path = 'cla4lsp22_bikez_curated.csv'\n",
    "\n",
    "# LOADING THE DATASET AS DATAFRAME then store in the variable df_tot\n",
    "df_tot = pd.read_csv(bikez_path)\n",
    "\n",
    "# DISPLAY OF THE DATAFRAME\n",
    "# display(df_tot)"
   ]
  },
  {
   "attachments": {},
   "cell_type": "markdown",
   "metadata": {},
   "source": [
    "##### b) Generate x as a random number: 0, 1, or 2. workdf is the dftot containing only data corresponding to years with reminder r resulted by modulus 3"
   ]
  },
  {
   "cell_type": "markdown",
   "metadata": {
    "collapsed": false
   },
   "source": []
  },
  {
   "cell_type": "code",
   "execution_count": 4,
   "metadata": {
    "collapsed": false
   },
   "outputs": [
    {
     "data": {
      "text/plain": "         Brand                 Model  Year                   Category  Rating  \\\n3      acabion   gtbo 600 daytona-vi  2021  Prototype / concept model     NaN   \n5       access  37 offroad e-scooter  2021                    Scooter     NaN   \n14      access          amx 8.57 efi  2018                        ATV     NaN   \n15      access         minisport 110  2021                        ATV     NaN   \n16      access             shade 200  2021                        ATV     NaN   \n...        ...                   ...   ...                        ...     ...   \n38455  zündapp          roller super  1964                    Scooter     NaN   \n38458  zündapp          roller super  1967                    Scooter     NaN   \n38461  zündapp                 z 2 g  1922                      Sport     1.5   \n38465  zündapp                  z 22  1922                      Sport     NaN   \n38470  zündapp                 z 300  1928                      Sport     NaN   \n\n       Displacement (ccm)  Power (hp)  Torque (Nm)  Engine cylinder  \\\n3                     NaN       536.0          NaN         Electric   \n5                     NaN         1.1          NaN         Electric   \n14                  781.0        57.7          NaN  Single cylinder   \n15                  107.0         6.8          NaN  Single cylinder   \n16                  176.0        13.1          NaN  Single cylinder   \n...                   ...         ...          ...              ...   \n38455                49.0         NaN          NaN  Single cylinder   \n38458                49.0         NaN          NaN  Single cylinder   \n38461               211.0         2.8          NaN  Single cylinder   \n38465               211.0         2.3          NaN  Single cylinder   \n38470               298.0        26.0          NaN  Single cylinder   \n\n      Engine stroke            Gearbox  Bore (mm)  Stroke (mm)  \\\n3          Electric  Not Given/Unknown        NaN          NaN   \n5          Electric          Automatic        NaN          NaN   \n14      four-stroke          Automatic        NaN          NaN   \n15      four-stroke          Automatic        NaN          NaN   \n16      four-stroke          Automatic        NaN          NaN   \n...             ...                ...        ...          ...   \n38455    two-stroke  Not Given/Unknown       39.0         42.0   \n38458    two-stroke  Not Given/Unknown       39.0         42.0   \n38461    two-stroke            2-speed       62.0         70.0   \n38465    two-stroke            2-speed       62.0         70.0   \n38470    two-stroke  Not Given/Unknown       68.0         82.5   \n\n       Fuel capacity (lts)           Fuel control     Cooling system  \\\n3                      NaN      Not Given/Unknown             Liquid   \n5                      NaN      Not Given/Unknown  Not Given/Unknown   \n14                    21.0    Overhead Cams (OHC)             Liquid   \n15                     NaN      Not Given/Unknown                Air   \n16                     NaN    Overhead Cams (OHC)                Air   \n...                    ...                    ...                ...   \n38455                  NaN      Not Given/Unknown                Air   \n38458                  NaN      Not Given/Unknown                Air   \n38461                  6.0      Not Given/Unknown                Air   \n38465                  6.0      Not Given/Unknown                Air   \n38470                  NaN  Overhead Valves (OHV)                Air   \n\n       Transmission type  Dry weight (kg)  Wheelbase (mm)  Seat height (mm)  \\\n3      Not Given/Unknown            420.0             NaN               NaN   \n5                  Chain             42.0             NaN             750.0   \n14                 Chain            344.0             NaN               NaN   \n15                 Chain             95.0             NaN             610.0   \n16                 Chain            201.0             NaN               NaN   \n...                  ...              ...             ...               ...   \n38455  Not Given/Unknown             83.5             NaN               NaN   \n38458  Not Given/Unknown             83.5             NaN               NaN   \n38461               Belt             73.0             NaN               NaN   \n38465               Belt             58.0             NaN               NaN   \n38470              Chain            105.0             NaN               NaN   \n\n              Fuel system                  Front brakes  \\\n3       not given/unknown                   single disc   \n5       not given/unknown                   single disc   \n14              injection                   single disc   \n15      not given/unknown                   single disc   \n16      not given/unknown                   single disc   \n...                   ...                           ...   \n38455  carburettor. other  expanding brake (drum brake)   \n38458  carburettor. other  expanding brake (drum brake)   \n38461         carburettor             not given/unknown   \n38465         carburettor             not given/unknown   \n38470         carburettor  expanding brake (drum brake)   \n\n                        Rear brakes Front tire Rear tire   Front suspension  \\\n3                       single disc      other     other  not given/unknown   \n5                       single disc      other     other  not given/unknown   \n14                      single disc    25/8-12  25/10-12              other   \n15                      single disc      other     other  not given/unknown   \n16                      single disc      other     other              other   \n...                             ...        ...       ...                ...   \n38455  expanding brake (drum brake)      other     other  not given/unknown   \n38458  expanding brake (drum brake)      other     other  not given/unknown   \n38461             not given/unknown      other     other              other   \n38465             not given/unknown      other     other              other   \n38470  expanding brake (drum brake)      other     other  not given/unknown   \n\n         Rear suspension  \n3      not given/unknown  \n5      not given/unknown  \n14                 other  \n15     not given/unknown  \n16                 other  \n...                  ...  \n38455  not given/unknown  \n38458  not given/unknown  \n38461              other  \n38465              other  \n38470  not given/unknown  \n\n[12533 rows x 27 columns]",
      "text/html": "<div>\n<style scoped>\n    .dataframe tbody tr th:only-of-type {\n        vertical-align: middle;\n    }\n\n    .dataframe tbody tr th {\n        vertical-align: top;\n    }\n\n    .dataframe thead th {\n        text-align: right;\n    }\n</style>\n<table border=\"1\" class=\"dataframe\">\n  <thead>\n    <tr style=\"text-align: right;\">\n      <th></th>\n      <th>Brand</th>\n      <th>Model</th>\n      <th>Year</th>\n      <th>Category</th>\n      <th>Rating</th>\n      <th>Displacement (ccm)</th>\n      <th>Power (hp)</th>\n      <th>Torque (Nm)</th>\n      <th>Engine cylinder</th>\n      <th>Engine stroke</th>\n      <th>Gearbox</th>\n      <th>Bore (mm)</th>\n      <th>Stroke (mm)</th>\n      <th>Fuel capacity (lts)</th>\n      <th>Fuel control</th>\n      <th>Cooling system</th>\n      <th>Transmission type</th>\n      <th>Dry weight (kg)</th>\n      <th>Wheelbase (mm)</th>\n      <th>Seat height (mm)</th>\n      <th>Fuel system</th>\n      <th>Front brakes</th>\n      <th>Rear brakes</th>\n      <th>Front tire</th>\n      <th>Rear tire</th>\n      <th>Front suspension</th>\n      <th>Rear suspension</th>\n    </tr>\n  </thead>\n  <tbody>\n    <tr>\n      <th>3</th>\n      <td>acabion</td>\n      <td>gtbo 600 daytona-vi</td>\n      <td>2021</td>\n      <td>Prototype / concept model</td>\n      <td>NaN</td>\n      <td>NaN</td>\n      <td>536.0</td>\n      <td>NaN</td>\n      <td>Electric</td>\n      <td>Electric</td>\n      <td>Not Given/Unknown</td>\n      <td>NaN</td>\n      <td>NaN</td>\n      <td>NaN</td>\n      <td>Not Given/Unknown</td>\n      <td>Liquid</td>\n      <td>Not Given/Unknown</td>\n      <td>420.0</td>\n      <td>NaN</td>\n      <td>NaN</td>\n      <td>not given/unknown</td>\n      <td>single disc</td>\n      <td>single disc</td>\n      <td>other</td>\n      <td>other</td>\n      <td>not given/unknown</td>\n      <td>not given/unknown</td>\n    </tr>\n    <tr>\n      <th>5</th>\n      <td>access</td>\n      <td>37 offroad e-scooter</td>\n      <td>2021</td>\n      <td>Scooter</td>\n      <td>NaN</td>\n      <td>NaN</td>\n      <td>1.1</td>\n      <td>NaN</td>\n      <td>Electric</td>\n      <td>Electric</td>\n      <td>Automatic</td>\n      <td>NaN</td>\n      <td>NaN</td>\n      <td>NaN</td>\n      <td>Not Given/Unknown</td>\n      <td>Not Given/Unknown</td>\n      <td>Chain</td>\n      <td>42.0</td>\n      <td>NaN</td>\n      <td>750.0</td>\n      <td>not given/unknown</td>\n      <td>single disc</td>\n      <td>single disc</td>\n      <td>other</td>\n      <td>other</td>\n      <td>not given/unknown</td>\n      <td>not given/unknown</td>\n    </tr>\n    <tr>\n      <th>14</th>\n      <td>access</td>\n      <td>amx 8.57 efi</td>\n      <td>2018</td>\n      <td>ATV</td>\n      <td>NaN</td>\n      <td>781.0</td>\n      <td>57.7</td>\n      <td>NaN</td>\n      <td>Single cylinder</td>\n      <td>four-stroke</td>\n      <td>Automatic</td>\n      <td>NaN</td>\n      <td>NaN</td>\n      <td>21.0</td>\n      <td>Overhead Cams (OHC)</td>\n      <td>Liquid</td>\n      <td>Chain</td>\n      <td>344.0</td>\n      <td>NaN</td>\n      <td>NaN</td>\n      <td>injection</td>\n      <td>single disc</td>\n      <td>single disc</td>\n      <td>25/8-12</td>\n      <td>25/10-12</td>\n      <td>other</td>\n      <td>other</td>\n    </tr>\n    <tr>\n      <th>15</th>\n      <td>access</td>\n      <td>minisport 110</td>\n      <td>2021</td>\n      <td>ATV</td>\n      <td>NaN</td>\n      <td>107.0</td>\n      <td>6.8</td>\n      <td>NaN</td>\n      <td>Single cylinder</td>\n      <td>four-stroke</td>\n      <td>Automatic</td>\n      <td>NaN</td>\n      <td>NaN</td>\n      <td>NaN</td>\n      <td>Not Given/Unknown</td>\n      <td>Air</td>\n      <td>Chain</td>\n      <td>95.0</td>\n      <td>NaN</td>\n      <td>610.0</td>\n      <td>not given/unknown</td>\n      <td>single disc</td>\n      <td>single disc</td>\n      <td>other</td>\n      <td>other</td>\n      <td>not given/unknown</td>\n      <td>not given/unknown</td>\n    </tr>\n    <tr>\n      <th>16</th>\n      <td>access</td>\n      <td>shade 200</td>\n      <td>2021</td>\n      <td>ATV</td>\n      <td>NaN</td>\n      <td>176.0</td>\n      <td>13.1</td>\n      <td>NaN</td>\n      <td>Single cylinder</td>\n      <td>four-stroke</td>\n      <td>Automatic</td>\n      <td>NaN</td>\n      <td>NaN</td>\n      <td>NaN</td>\n      <td>Overhead Cams (OHC)</td>\n      <td>Air</td>\n      <td>Chain</td>\n      <td>201.0</td>\n      <td>NaN</td>\n      <td>NaN</td>\n      <td>not given/unknown</td>\n      <td>single disc</td>\n      <td>single disc</td>\n      <td>other</td>\n      <td>other</td>\n      <td>other</td>\n      <td>other</td>\n    </tr>\n    <tr>\n      <th>...</th>\n      <td>...</td>\n      <td>...</td>\n      <td>...</td>\n      <td>...</td>\n      <td>...</td>\n      <td>...</td>\n      <td>...</td>\n      <td>...</td>\n      <td>...</td>\n      <td>...</td>\n      <td>...</td>\n      <td>...</td>\n      <td>...</td>\n      <td>...</td>\n      <td>...</td>\n      <td>...</td>\n      <td>...</td>\n      <td>...</td>\n      <td>...</td>\n      <td>...</td>\n      <td>...</td>\n      <td>...</td>\n      <td>...</td>\n      <td>...</td>\n      <td>...</td>\n      <td>...</td>\n      <td>...</td>\n    </tr>\n    <tr>\n      <th>38455</th>\n      <td>zündapp</td>\n      <td>roller super</td>\n      <td>1964</td>\n      <td>Scooter</td>\n      <td>NaN</td>\n      <td>49.0</td>\n      <td>NaN</td>\n      <td>NaN</td>\n      <td>Single cylinder</td>\n      <td>two-stroke</td>\n      <td>Not Given/Unknown</td>\n      <td>39.0</td>\n      <td>42.0</td>\n      <td>NaN</td>\n      <td>Not Given/Unknown</td>\n      <td>Air</td>\n      <td>Not Given/Unknown</td>\n      <td>83.5</td>\n      <td>NaN</td>\n      <td>NaN</td>\n      <td>carburettor. other</td>\n      <td>expanding brake (drum brake)</td>\n      <td>expanding brake (drum brake)</td>\n      <td>other</td>\n      <td>other</td>\n      <td>not given/unknown</td>\n      <td>not given/unknown</td>\n    </tr>\n    <tr>\n      <th>38458</th>\n      <td>zündapp</td>\n      <td>roller super</td>\n      <td>1967</td>\n      <td>Scooter</td>\n      <td>NaN</td>\n      <td>49.0</td>\n      <td>NaN</td>\n      <td>NaN</td>\n      <td>Single cylinder</td>\n      <td>two-stroke</td>\n      <td>Not Given/Unknown</td>\n      <td>39.0</td>\n      <td>42.0</td>\n      <td>NaN</td>\n      <td>Not Given/Unknown</td>\n      <td>Air</td>\n      <td>Not Given/Unknown</td>\n      <td>83.5</td>\n      <td>NaN</td>\n      <td>NaN</td>\n      <td>carburettor. other</td>\n      <td>expanding brake (drum brake)</td>\n      <td>expanding brake (drum brake)</td>\n      <td>other</td>\n      <td>other</td>\n      <td>not given/unknown</td>\n      <td>not given/unknown</td>\n    </tr>\n    <tr>\n      <th>38461</th>\n      <td>zündapp</td>\n      <td>z 2 g</td>\n      <td>1922</td>\n      <td>Sport</td>\n      <td>1.5</td>\n      <td>211.0</td>\n      <td>2.8</td>\n      <td>NaN</td>\n      <td>Single cylinder</td>\n      <td>two-stroke</td>\n      <td>2-speed</td>\n      <td>62.0</td>\n      <td>70.0</td>\n      <td>6.0</td>\n      <td>Not Given/Unknown</td>\n      <td>Air</td>\n      <td>Belt</td>\n      <td>73.0</td>\n      <td>NaN</td>\n      <td>NaN</td>\n      <td>carburettor</td>\n      <td>not given/unknown</td>\n      <td>not given/unknown</td>\n      <td>other</td>\n      <td>other</td>\n      <td>other</td>\n      <td>other</td>\n    </tr>\n    <tr>\n      <th>38465</th>\n      <td>zündapp</td>\n      <td>z 22</td>\n      <td>1922</td>\n      <td>Sport</td>\n      <td>NaN</td>\n      <td>211.0</td>\n      <td>2.3</td>\n      <td>NaN</td>\n      <td>Single cylinder</td>\n      <td>two-stroke</td>\n      <td>2-speed</td>\n      <td>62.0</td>\n      <td>70.0</td>\n      <td>6.0</td>\n      <td>Not Given/Unknown</td>\n      <td>Air</td>\n      <td>Belt</td>\n      <td>58.0</td>\n      <td>NaN</td>\n      <td>NaN</td>\n      <td>carburettor</td>\n      <td>not given/unknown</td>\n      <td>not given/unknown</td>\n      <td>other</td>\n      <td>other</td>\n      <td>other</td>\n      <td>other</td>\n    </tr>\n    <tr>\n      <th>38470</th>\n      <td>zündapp</td>\n      <td>z 300</td>\n      <td>1928</td>\n      <td>Sport</td>\n      <td>NaN</td>\n      <td>298.0</td>\n      <td>26.0</td>\n      <td>NaN</td>\n      <td>Single cylinder</td>\n      <td>two-stroke</td>\n      <td>Not Given/Unknown</td>\n      <td>68.0</td>\n      <td>82.5</td>\n      <td>NaN</td>\n      <td>Overhead Valves (OHV)</td>\n      <td>Air</td>\n      <td>Chain</td>\n      <td>105.0</td>\n      <td>NaN</td>\n      <td>NaN</td>\n      <td>carburettor</td>\n      <td>expanding brake (drum brake)</td>\n      <td>expanding brake (drum brake)</td>\n      <td>other</td>\n      <td>other</td>\n      <td>not given/unknown</td>\n      <td>not given/unknown</td>\n    </tr>\n  </tbody>\n</table>\n<p>12533 rows × 27 columns</p>\n</div>"
     },
     "metadata": {},
     "output_type": "display_data"
    }
   ],
   "source": [
    "x = int(np.random.uniform(0,3))\n",
    "workdf = df_tot[df_tot['Year'] % 3 == x]\n",
    "display(workdf)"
   ]
  },
  {
   "attachments": {},
   "cell_type": "markdown",
   "metadata": {},
   "source": [
    "##### c) Remove randomly from workdf two columns among the features: Front/Rear breaks, Front/Rear tire, Front/Rear suspension."
   ]
  },
  {
   "attachments": {},
   "cell_type": "markdown",
   "metadata": {},
   "source": [
    "Denote:\n",
    "labels: the columns Brand, Model, Year, Category, Rating;\n",
    "features: all the other ones"
   ]
  },
  {
   "cell_type": "code",
   "execution_count": 5,
   "metadata": {},
   "outputs": [],
   "source": [
    "labels = workdf.columns[:5].tolist()\n",
    "features = workdf.columns[5:].tolist()\n"
   ]
  },
  {
   "cell_type": "code",
   "execution_count": 6,
   "metadata": {},
   "outputs": [],
   "source": [
    "temp_features = ['Front brakes', 'Rear brakes','Front tire', 'Rear tire','Front suspension', 'Rear suspension']\n",
    "\n",
    "feat1,feat2 = np.random.choice(temp_features, 2, replace=False)\n",
    "workdf = workdf.drop(columns=[feat1,feat2])"
   ]
  },
  {
   "attachments": {},
   "cell_type": "markdown",
   "metadata": {},
   "source": [
    "d) Clean the dataset workdf from missing values in the feature columns (if needed)."
   ]
  },
  {
   "attachments": {},
   "cell_type": "markdown",
   "metadata": {},
   "source": [
    "##### Show percentage of missing values for each column of workdf"
   ]
  },
  {
   "cell_type": "code",
   "execution_count": 7,
   "metadata": {},
   "outputs": [
    {
     "data": {
      "text/plain": "Brand                   0.000000\nModel                   0.079789\nYear                    0.000000\nCategory                0.000000\nRating                 42.160696\nDisplacement (ccm)      2.465491\nPower (hp)             31.173701\nTorque (Nm)            54.655709\nEngine cylinder         0.000000\nEngine stroke           0.000000\nGearbox                 0.000000\nBore (mm)              25.412910\nStroke (mm)            25.420889\nFuel capacity (lts)    16.356818\nFuel control            0.000000\nCooling system          0.000000\nTransmission type       0.000000\nDry weight (kg)        41.322908\nWheelbase (mm)         33.351951\nSeat height (mm)       35.721695\nFuel system             0.000000\nFront brakes            0.000000\nRear brakes             0.000000\nRear tire               0.000000\nRear suspension         0.000000\ndtype: float64"
     },
     "metadata": {},
     "output_type": "display_data"
    }
   ],
   "source": [
    "# compute the percentage of NaN values for each column\n",
    "na_percentage = workdf.isna().mean() * 100\n",
    "display(na_percentage)\n",
    "\n",
    "# filter the na_percentage series to only include columns with a percentage of NaN values > 0\n",
    "na_percentage_filtered = na_percentage[na_percentage > 0]\n",
    "\n",
    "# subtract the labels list from the list of columns with NaN values > 0\n",
    "na_features = na_percentage_filtered.index.difference(labels).tolist()"
   ]
  },
  {
   "attachments": {},
   "cell_type": "markdown",
   "metadata": {},
   "source": [
    "Remove Nan values from 'Displacement (ccm)' since NaN values are sparse"
   ]
  },
  {
   "cell_type": "code",
   "execution_count": 8,
   "metadata": {},
   "outputs": [],
   "source": [
    "workdf.dropna(subset=['Displacement (ccm)'], inplace=True)\n"
   ]
  },
  {
   "attachments": {},
   "cell_type": "markdown",
   "metadata": {},
   "source": [
    "Fill Nan values from other columns by mean"
   ]
  },
  {
   "cell_type": "code",
   "execution_count": 9,
   "metadata": {},
   "outputs": [],
   "source": [
    "for col in na_features:\n",
    "    workdf[col] = workdf[col].fillna(workdf[col].mean())"
   ]
  },
  {
   "cell_type": "code",
   "execution_count": 10,
   "outputs": [],
   "source": [
    "string_cols = list(workdf.select_dtypes(include=['object']).columns)\n",
    "df_one_hot_encoded = pd.get_dummies(workdf, columns=string_cols)"
   ],
   "metadata": {
    "collapsed": false
   }
  }
 ],
 "metadata": {
  "kernelspec": {
   "display_name": "venv",
   "language": "python",
   "name": "python3"
  },
  "language_info": {
   "codemirror_mode": {
    "name": "ipython",
    "version": 3
   },
   "file_extension": ".py",
   "mimetype": "text/x-python",
   "name": "python",
   "nbconvert_exporter": "python",
   "pygments_lexer": "ipython3",
   "version": "3.10.9"
  },
  "orig_nbformat": 4,
  "vscode": {
   "interpreter": {
    "hash": "82deb7ebdf62c12271930ded557c7a095953f7973d7c91074b3cf1a3c24aef9a"
   }
  }
 },
 "nbformat": 4,
 "nbformat_minor": 2
}
