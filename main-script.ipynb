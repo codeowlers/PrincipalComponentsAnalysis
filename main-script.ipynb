{
 "cells": [
  {
   "cell_type": "code",
   "execution_count": null,
   "metadata": {},
   "outputs": [],
   "source": [
    "import numpy as np\n",
    "import pandas as pd\n",
    "from sklearn.preprocessing import StandardScaler, MinMaxScaler\n",
    "from sklearn.decomposition import PCA\n",
    "from sklearn.cluster import KMeans\n",
    "from sklearn.metrics import silhouette_score\n",
    "import matplotlib.pyplot as plt\n",
    "from matplotlib import cm\n",
    "from matplotlib.lines import Line2D\n",
    "from IPython.display import display  # to display variables in a \"nice\" way\n",
    "\n",
    "# pd.options.display.max_rows = 9999\n",
    "pd.options.display.max_columns = 200"
   ]
  },
  {
   "attachments": {},
   "cell_type": "markdown",
   "metadata": {},
   "source": [
    "Setting the Random State:"
   ]
  },
  {
   "cell_type": "code",
   "execution_count": null,
   "metadata": {},
   "outputs": [],
   "source": [
    "IDs =  [312920,312919,313385]\n",
    "rs = np.min(IDs)\n",
    "np.random.seed(rs)"
   ]
  },
  {
   "attachments": {},
   "cell_type": "markdown",
   "metadata": {},
   "source": [
    "Exercise 1 (Loading and Preparing the Data):"
   ]
  },
  {
   "attachments": {},
   "cell_type": "markdown",
   "metadata": {},
   "source": [
    "(a)"
   ]
  },
  {
   "cell_type": "code",
   "execution_count": null,
   "metadata": {},
   "outputs": [],
   "source": [
    "# PATH TO THE cla4lsp22_bikez_curated.csv FILE\n",
    "bikez_path = 'cla4lsp22_bikez_curated.csv'\n",
    "\n",
    "# LOADING THE DATASET AS DATAFRAME then store in the variable df_tot\n",
    "df_tot = pd.read_csv(bikez_path)\n",
    "\n",
    "# DISPLAY OF THE DATAFRAME\n",
    "# display(df_tot)"
   ]
  },
  {
   "attachments": {},
   "cell_type": "markdown",
   "metadata": {},
   "source": [
    "##### b) Generate x as a random number: 0, 1, or 2. workdf is the dftot containing only data corresponding to years with reminder r resulted by modulus 3"
   ]
  },
  {
   "cell_type": "markdown",
   "metadata": {
    "collapsed": false
   },
   "source": []
  },
  {
   "cell_type": "code",
   "execution_count": null,
   "metadata": {
    "collapsed": false
   },
   "outputs": [],
   "source": [
    "x = int(np.random.uniform(0,3))\n",
    "workdf = df_tot[df_tot['Year'] % 3 == x]\n",
    "display(workdf)"
   ]
  },
  {
   "attachments": {},
   "cell_type": "markdown",
   "metadata": {},
   "source": [
    "##### c) Remove randomly from workdf two columns among the features: Front/Rear breaks, Front/Rear tire, Front/Rear suspension."
   ]
  },
  {
   "cell_type": "code",
   "execution_count": null,
   "metadata": {},
   "outputs": [],
   "source": [
    "temp_features = ['Front brakes', 'Rear brakes','Front tire', 'Rear tire','Front suspension', 'Rear suspension']\n",
    "\n",
    "feat1,feat2 = np.random.choice(temp_features, 2, replace=False)\n",
    "workdf = workdf.drop(columns=[feat1,feat2])"
   ]
  },
  {
   "attachments": {},
   "cell_type": "markdown",
   "metadata": {},
   "source": [
    "Denote:\n",
    "labels: the columns Brand, Model, Year, Category, Rating;\n",
    "features: all the other ones"
   ]
  },
  {
   "cell_type": "code",
   "execution_count": null,
   "metadata": {},
   "outputs": [],
   "source": [
    "labels = workdf.columns[:5].tolist()\n",
    "features = workdf.columns[5:].tolist()\n"
   ]
  },
  {
   "attachments": {},
   "cell_type": "markdown",
   "metadata": {},
   "source": [
    "d) Clean the dataset workdf from missing values in the feature columns (if needed)."
   ]
  },
  {
   "attachments": {},
   "cell_type": "markdown",
   "metadata": {},
   "source": [
    "##### Show percentage of missing values for each column of workdf"
   ]
  },
  {
   "cell_type": "code",
   "execution_count": null,
   "metadata": {},
   "outputs": [],
   "source": [
    "# compute the percentage of NaN values for each column\n",
    "na_percentage = workdf.isna().mean() * 100\n",
    "display(na_percentage)\n",
    "\n",
    "# filter the na_percentage series to only include columns with a percentage of NaN values > 0\n",
    "na_percentage_filtered = na_percentage[na_percentage > 0]\n",
    "\n",
    "# subtract the labels list from the list of columns with NaN values > 0\n",
    "na_features = na_percentage_filtered.index.difference(labels).tolist()"
   ]
  },
  {
   "attachments": {},
   "cell_type": "markdown",
   "metadata": {},
   "source": [
    "Remove Nan values from 'Displacement (ccm)' since NaN values are sparse"
   ]
  },
  {
   "cell_type": "code",
   "execution_count": null,
   "metadata": {},
   "outputs": [],
   "source": [
    "workdf.dropna(subset=['Displacement (ccm)'], inplace=True)\n"
   ]
  },
  {
   "attachments": {},
   "cell_type": "markdown",
   "metadata": {},
   "source": [
    "Fill Nan values from other columns by mean"
   ]
  },
  {
   "cell_type": "code",
   "execution_count": null,
   "metadata": {},
   "outputs": [],
   "source": [
    "for col in na_features:\n",
    "    workdf[col] = workdf[col].fillna(workdf[col].mean())"
   ]
  },
  {
   "attachments": {},
   "cell_type": "markdown",
   "metadata": {},
   "source": [
    "Exercise 2 (Encoding of Categorical Data):"
   ]
  },
  {
   "cell_type": "code",
   "execution_count": null,
   "metadata": {},
   "outputs": [],
   "source": [
    "# select only the string columns in workdf that are in the features list\n",
    "string_cols = workdf.select_dtypes(include=['object']).columns.intersection(features)\n",
    "\n",
    "# apply one-hot encoding to the selected string columns\n",
    "for col in string_cols:\n",
    "    encoded_cols = workdf[col].str.get_dummies(sep='.').add_prefix(col + '_')\n",
    "    workdf = pd.concat([workdf, encoded_cols], axis=1)\n",
    "\n",
    "    # drop the original string column\n",
    "    workdf.drop(col, axis=1, inplace=True)\n",
    "\n",
    "# print the updated DataFrame\n",
    "display(workdf)"
   ]
  }
 ],
 "metadata": {
  "kernelspec": {
   "display_name": "venv",
   "language": "python",
   "name": "python3"
  },
  "language_info": {
   "codemirror_mode": {
    "name": "ipython",
    "version": 3
   },
   "file_extension": ".py",
   "mimetype": "text/x-python",
   "name": "python",
   "nbconvert_exporter": "python",
   "pygments_lexer": "ipython3",
   "version": "3.10.9"
  },
  "orig_nbformat": 4,
  "vscode": {
   "interpreter": {
    "hash": "82deb7ebdf62c12271930ded557c7a095953f7973d7c91074b3cf1a3c24aef9a"
   }
  }
 },
 "nbformat": 4,
 "nbformat_minor": 2
}
